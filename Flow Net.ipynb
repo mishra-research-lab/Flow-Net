{
 "cells": [
  {
   "cell_type": "code",
   "execution_count": 2,
   "id": "e772250e-6531-4740-83be-3a245417738a",
   "metadata": {},
   "outputs": [
    {
     "data": {
      "text/plain": [
       "<Figure size 640x480 with 0 Axes>"
      ]
     },
     "metadata": {},
     "output_type": "display_data"
    }
   ],
   "source": [
    "from ipywidgets import interact, widgets,Output\n",
    "import matplotlib.pyplot as plt\n",
    "\n",
    "# !git clone https://github.com/bibek624/Flow-Net\n",
    "# %run /content/Flow-Net/domain.py\n",
    "\n",
    "%run domain.py"
   ]
  },
  {
   "cell_type": "code",
   "execution_count": 3,
   "id": "de253651-f100-403f-8894-ab3fb05cdc3e",
   "metadata": {},
   "outputs": [
    {
     "data": {
      "application/vnd.jupyter.widget-view+json": {
       "model_id": "e9074648499a4d25ac1badb5c1bf3826",
       "version_major": 2,
       "version_minor": 0
      },
      "text/plain": [
       "HBox(children=(VBox(children=(BoundedFloatText(value=20.0, description='Domain Length:', min=1.0, style=Descri…"
      ]
     },
     "metadata": {},
     "output_type": "display_data"
    },
    {
     "data": {
      "application/vnd.jupyter.widget-view+json": {
       "model_id": "17cb4cf67cd14071a0c2880271d28fd9",
       "version_major": 2,
       "version_minor": 0
      },
      "text/plain": [
       "HBox(children=(Button(description='Compute', style=ButtonStyle(button_color='green', text_color='white')), Lab…"
      ]
     },
     "metadata": {},
     "output_type": "display_data"
    },
    {
     "data": {
      "application/vnd.jupyter.widget-view+json": {
       "model_id": "b2bd9ace1e4d4507b4c6dfe735198cf3",
       "version_major": 2,
       "version_minor": 0
      },
      "text/plain": [
       "Output()"
      ]
     },
     "metadata": {},
     "output_type": "display_data"
    }
   ],
   "source": [
    "#before running this cell, please run the first cell\n",
    "\n",
    "%matplotlib inline\n",
    "layout = widgets.Layout(width='auto', height='40px') \n",
    "style = {'description_width': 'initial'}\n",
    "# Create input boxes for variables\n",
    "L_input = widgets.BoundedFloatText(value=20, description='Domain Length:', min = 1,style= style)\n",
    "H_input = widgets.BoundedFloatText(value=5, description='Domain Height:', min = 1, style= style)\n",
    "Ws_input = widgets.BoundedFloatText(value=0.5, description='Sheet Pile Width:', min = 0, style= style)\n",
    "Hs_input = widgets.BoundedFloatText(value=4, description='Sheet Pile Height:', min = 0, style= style)\n",
    "Pw_input = widgets.BoundedFloatText(value=10, description='Weir Position:', min = 0, style= style)\n",
    "Ww_input = widgets.BoundedFloatText(value=3, description='Weir Width:', min = 0.2, style= style)\n",
    "H1_input = widgets.BoundedFloatText(value=6, description='Upstream Depth:', min = 0, style= style)\n",
    "H2_input = widgets.BoundedFloatText(value=1, description='Downstream Depth:', min = 0, style= style)\n",
    "Nd_input = widgets.BoundedIntText(value=13, description='No. of Head Drops:',min = 1,style= style)\n",
    "Nf_input = widgets.BoundedIntText(value=5, description='No. of Flow Lines:', min = 1,style= style)\n",
    "loading = widgets.Label(value='Hello World',style={'border': 'none'})\n",
    "compute_button = widgets.Button(description='Compute',style={'button_color': 'green', 'text_color':'white'})\n",
    "\n",
    "column1 = [L_input, Pw_input,Ws_input, H1_input, Nd_input]\n",
    "column2 = [H_input, Ww_input,Hs_input, H2_input, Nf_input]\n",
    "\n",
    "# Combine columns into two VBox layouts\n",
    "column1_box = widgets.VBox(column1)\n",
    "column2_box = widgets.VBox(column2)\n",
    "column1_box.layout.width = '400px'\n",
    "input_box = widgets.HBox([column1_box, column2_box])\n",
    "output = widgets.Output()\n",
    "\n",
    "fig_size = (15,10)\n",
    "domain = Domain(L_input.value, H1_input.value, Pw_input.value, Ww_input.value, Ws_input.value, Hs_input.value, H1_input.value, H2_input.value,Nd_input.value,Nf_input.value,axes = None )\n",
    "\n",
    "def on_button_clicked(b):\n",
    "    with output:\n",
    "        output.clear_output(wait=True)\n",
    "    with output:\n",
    "        loading.value = 'Computing......'\n",
    "        loading.style = {'color': 'red'}\n",
    "        compute_button.disabled = True\n",
    "     \n",
    "        try:\n",
    "          fig, ax = plt.subplots(figsize = fig_size)\n",
    "          domain.update(L_input.value, H_input.value, Pw_input.value, Ww_input.value, Ws_input.value, Hs_input.value, H1_input.value, H2_input.value,Nd_input.value,Nf_input.value, ax)\n",
    "          h = domain.compute_potentials()\n",
    "          f = domain.compute_flow()\n",
    "          domain.draw_domain(h,f)   \n",
    "            \n",
    "        except Exception as e:\n",
    "            # print('error')\n",
    "            loading.value= 'Something went wrong, Please try again with differnt values'\n",
    "            loading.style = {'text_color': 'red'}\n",
    "            compute_button.disabled = False\n",
    "            return\n",
    "        \n",
    "        plt.show()\n",
    "        loading.value= 'Computed'\n",
    "        loading.style = {'color': 'green'}\n",
    "        compute_button.disabled = False\n",
    " \n",
    "compute_button.on_click(on_button_clicked)\n",
    "# Display input box\n",
    "display(input_box, widgets.HBox([compute_button,loading]), output)\n",
    "on_button_clicked(0)"
   ]
  }
 ],
 "metadata": {
  "kernelspec": {
   "display_name": "Python 3 (ipykernel)",
   "language": "python",
   "name": "python3"
  },
  "language_info": {
   "codemirror_mode": {
    "name": "ipython",
    "version": 3
   },
   "file_extension": ".py",
   "mimetype": "text/x-python",
   "name": "python",
   "nbconvert_exporter": "python",
   "pygments_lexer": "ipython3",
   "version": "3.12.2"
  }
 },
 "nbformat": 4,
 "nbformat_minor": 5
}
